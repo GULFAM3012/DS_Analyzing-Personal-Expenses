{
 "cells": [
  {
   "cell_type": "code",
   "execution_count": 1,
   "id": "9ab5c7fd-cabe-4a3e-a34c-b070422755d0",
   "metadata": {},
   "outputs": [],
   "source": [
    "from faker import Faker\n",
    "import pandas as pd \n",
    "import random"
   ]
  },
  {
   "cell_type": "code",
   "execution_count": null,
   "id": "f4dd8fca",
   "metadata": {},
   "outputs": [
    {
     "name": "stdout",
     "output_type": "stream",
     "text": [
      "Requirement already satisfied: Faker in c:\\users\\sheik\\appdata\\local\\programs\\python\\python313\\lib\\site-packages (37.0.0)\n",
      "Requirement already satisfied: tzdata in c:\\users\\sheik\\appdata\\local\\programs\\python\\python313\\lib\\site-packages (from Faker) (2025.1)\n",
      "Note: you may need to restart the kernel to use updated packages.\n"
     ]
    },
    {
     "name": "stderr",
     "output_type": "stream",
     "text": [
      "\n",
      "[notice] A new release of pip is available: 24.2 -> 25.0.1\n",
      "[notice] To update, run: python.exe -m pip install --upgrade pip\n"
     ]
    }
   ],
   "source": [
    "pip install Faker"
   ]
  },
  {
   "cell_type": "code",
   "execution_count": 2,
   "id": "1ea65279-a2d8-4755-9785-455a800913e1",
   "metadata": {},
   "outputs": [],
   "source": [
    "fake = Faker()"
   ]
  },
  {
   "cell_type": "code",
   "execution_count": 3,
   "id": "4332d4c5-fdf2-4c1e-a97d-5d247992a222",
   "metadata": {},
   "outputs": [],
   "source": [
    "categories = [\"Statioary\", \"Transportation\", \"Investment\", \"Bills\", \"Groceries\", \"Subscriptions\"]\n",
    "payment_modes = [\"Cash\", \"online\"]\n",
    "bills = [\"water bill\", \"electricity bill\", \"wifi bill\", \"phone\", \"gas\"]\n",
    "Subscriptions = [\"Prime\", \"Netflix\", \"Audible\"]\n"
   ]
  },
  {
   "cell_type": "code",
   "execution_count": 4,
   "id": "d4ad13b7-91e5-409a-8ac3-7db8f3964714",
   "metadata": {},
   "outputs": [],
   "source": [
    "data = []\n",
    "for _ in range(1000): \n",
    "    date = fake.date_between(start_date='-1y', end_date='today')\n",
    "    category = random.choice(categories)\n",
    "    payment_mode = random.choice(payment_modes)\n",
    "    description = fake.sentence()\n",
    "    amount_paid = round(random.uniform(10, 500), 2)\n",
    "    cashback = round(random.uniform(0, 10), 2) if payment_mode == \"online\" else 0\n",
    "    data.append([date, category, payment_mode, description, amount_paid, cashback])"
   ]
  },
  {
   "cell_type": "code",
   "execution_count": 5,
   "id": "2900403d-b47d-454d-a240-b2450d476b19",
   "metadata": {},
   "outputs": [],
   "source": [
    "df = pd.DataFrame(data, columns=[\"Date\", \"Category\", \"Payment Mode\", \"Description\", \"Amount Paid\", \"Cashback\"])"
   ]
  },
  {
   "cell_type": "code",
   "execution_count": 6,
   "id": "6eeb2c5c-b4a4-4411-8d8f-6eb3b29ba18b",
   "metadata": {},
   "outputs": [
    {
     "name": "stdout",
     "output_type": "stream",
     "text": [
      "Data generated and saved to 'expenses.csv'\n"
     ]
    }
   ],
   "source": [
    "df.to_csv(\"expenses.csv\", index=False)\n",
    "print(\"Data generated and saved to 'expenses.csv'\")"
   ]
  },
  {
   "cell_type": "code",
   "execution_count": 7,
   "id": "4de5cd51-5d93-4a62-bce3-6f3712644273",
   "metadata": {},
   "outputs": [
    {
     "name": "stdout",
     "output_type": "stream",
     "text": [
      "Requirement already satisfied: mysql-connector-python in c:\\users\\sheik\\appdata\\local\\programs\\python\\python313\\lib\\site-packages (9.2.0)\n",
      "Note: you may need to restart the kernel to use updated packages.\n"
     ]
    },
    {
     "name": "stderr",
     "output_type": "stream",
     "text": [
      "\n",
      "[notice] A new release of pip is available: 24.2 -> 25.0.1\n",
      "[notice] To update, run: python.exe -m pip install --upgrade pip\n"
     ]
    }
   ],
   "source": [
    "pip install mysql-connector-python"
   ]
  },
  {
   "cell_type": "code",
   "execution_count": 8,
   "id": "f066b26b-c805-4302-84da-d33b3cc71b82",
   "metadata": {},
   "outputs": [],
   "source": [
    "import mysql.connector\n",
    "import pandas as pd"
   ]
  },
  {
   "cell_type": "code",
   "execution_count": 9,
   "id": "a5a255b4-320d-48ce-8303-8884f04a478a",
   "metadata": {},
   "outputs": [],
   "source": [
    "conn = mysql.connector.connect(\n",
    "    host=\"localhost\",\n",
    "    user=\"root\",\n",
    "    password=\"Tigerx@007\",\n",
    "    database=\"expense_tracker\"\n",
    ")\n",
    "\n",
    "    "
   ]
  },
  {
   "cell_type": "code",
   "execution_count": 10,
   "id": "01a00351-a7a5-48a5-b2dd-34232a9c80dc",
   "metadata": {},
   "outputs": [],
   "source": [
    "cursor = conn.cursor()\n",
    "df = pd.read_csv('expenses.csv')"
   ]
  },
  {
   "cell_type": "code",
   "execution_count": 13,
   "id": "ecfb3173-209e-46f0-aeea-f9314fe171f6",
   "metadata": {},
   "outputs": [],
   "source": [
    "for _, row in df.iterrows():\n",
    "    cursor.execute('''\n",
    "        INSERT INTO expenses (date, category, payment_mode, description, amount_paid, cashback)\n",
    "        VALUES (%s, %s, %s, %s, %s, %s)\n",
    "    ''', (row['Date'], row['Category'], row['Payment Mode'], row['Description'], row['Amount Paid'], row['Cashback']))"
   ]
  },
  {
   "cell_type": "code",
   "execution_count": 14,
   "id": "bb016ec2-bd64-43aa-a393-5729d5c73685",
   "metadata": {},
   "outputs": [
    {
     "name": "stdout",
     "output_type": "stream",
     "text": [
      "Data loaded into MySQL database.\n"
     ]
    }
   ],
   "source": [
    "conn.commit()\n",
    "conn.close()\n",
    "print(\"Data loaded into MySQL database.\")"
   ]
  },
  {
   "cell_type": "code",
   "execution_count": 15,
   "id": "a0a99cae-8cf8-452a-a9d8-575b72817f76",
   "metadata": {},
   "outputs": [
    {
     "name": "stdout",
     "output_type": "stream",
     "text": [
      "Requirement already satisfied: streamlit in c:\\users\\sheik\\appdata\\local\\programs\\python\\python313\\lib\\site-packages (1.43.1)\n",
      "Requirement already satisfied: altair<6,>=4.0 in c:\\users\\sheik\\appdata\\local\\programs\\python\\python313\\lib\\site-packages (from streamlit) (5.5.0)\n",
      "Requirement already satisfied: blinker<2,>=1.0.0 in c:\\users\\sheik\\appdata\\local\\programs\\python\\python313\\lib\\site-packages (from streamlit) (1.9.0)\n",
      "Requirement already satisfied: cachetools<6,>=4.0 in c:\\users\\sheik\\appdata\\local\\programs\\python\\python313\\lib\\site-packages (from streamlit) (5.5.2)\n",
      "Requirement already satisfied: click<9,>=7.0 in c:\\users\\sheik\\appdata\\local\\programs\\python\\python313\\lib\\site-packages (from streamlit) (8.1.8)\n",
      "Requirement already satisfied: numpy<3,>=1.23 in c:\\users\\sheik\\appdata\\local\\programs\\python\\python313\\lib\\site-packages (from streamlit) (2.2.3)\n",
      "Requirement already satisfied: packaging<25,>=20 in c:\\users\\sheik\\appdata\\local\\programs\\python\\python313\\lib\\site-packages (from streamlit) (24.2)\n",
      "Requirement already satisfied: pandas<3,>=1.4.0 in c:\\users\\sheik\\appdata\\local\\programs\\python\\python313\\lib\\site-packages (from streamlit) (2.2.3)\n",
      "Requirement already satisfied: pillow<12,>=7.1.0 in c:\\users\\sheik\\appdata\\local\\programs\\python\\python313\\lib\\site-packages (from streamlit) (11.1.0)\n",
      "Requirement already satisfied: protobuf<6,>=3.20 in c:\\users\\sheik\\appdata\\local\\programs\\python\\python313\\lib\\site-packages (from streamlit) (5.29.3)\n",
      "Requirement already satisfied: pyarrow>=7.0 in c:\\users\\sheik\\appdata\\local\\programs\\python\\python313\\lib\\site-packages (from streamlit) (19.0.1)\n",
      "Requirement already satisfied: requests<3,>=2.27 in c:\\users\\sheik\\appdata\\local\\programs\\python\\python313\\lib\\site-packages (from streamlit) (2.32.3)\n",
      "Requirement already satisfied: tenacity<10,>=8.1.0 in c:\\users\\sheik\\appdata\\local\\programs\\python\\python313\\lib\\site-packages (from streamlit) (9.0.0)\n",
      "Requirement already satisfied: toml<2,>=0.10.1 in c:\\users\\sheik\\appdata\\local\\programs\\python\\python313\\lib\\site-packages (from streamlit) (0.10.2)\n",
      "Requirement already satisfied: typing-extensions<5,>=4.4.0 in c:\\users\\sheik\\appdata\\local\\programs\\python\\python313\\lib\\site-packages (from streamlit) (4.12.2)\n",
      "Requirement already satisfied: watchdog<7,>=2.1.5 in c:\\users\\sheik\\appdata\\local\\programs\\python\\python313\\lib\\site-packages (from streamlit) (6.0.0)\n",
      "Requirement already satisfied: gitpython!=3.1.19,<4,>=3.0.7 in c:\\users\\sheik\\appdata\\local\\programs\\python\\python313\\lib\\site-packages (from streamlit) (3.1.44)\n",
      "Requirement already satisfied: pydeck<1,>=0.8.0b4 in c:\\users\\sheik\\appdata\\local\\programs\\python\\python313\\lib\\site-packages (from streamlit) (0.9.1)\n",
      "Requirement already satisfied: tornado<7,>=6.0.3 in c:\\users\\sheik\\appdata\\local\\programs\\python\\python313\\lib\\site-packages (from streamlit) (6.4.2)\n",
      "Requirement already satisfied: jinja2 in c:\\users\\sheik\\appdata\\local\\programs\\python\\python313\\lib\\site-packages (from altair<6,>=4.0->streamlit) (3.1.6)\n",
      "Requirement already satisfied: jsonschema>=3.0 in c:\\users\\sheik\\appdata\\local\\programs\\python\\python313\\lib\\site-packages (from altair<6,>=4.0->streamlit) (4.23.0)\n",
      "Requirement already satisfied: narwhals>=1.14.2 in c:\\users\\sheik\\appdata\\local\\programs\\python\\python313\\lib\\site-packages (from altair<6,>=4.0->streamlit) (1.30.0)\n",
      "Requirement already satisfied: colorama in c:\\users\\sheik\\appdata\\local\\programs\\python\\python313\\lib\\site-packages (from click<9,>=7.0->streamlit) (0.4.6)\n",
      "Requirement already satisfied: gitdb<5,>=4.0.1 in c:\\users\\sheik\\appdata\\local\\programs\\python\\python313\\lib\\site-packages (from gitpython!=3.1.19,<4,>=3.0.7->streamlit) (4.0.12)\n",
      "Requirement already satisfied: python-dateutil>=2.8.2 in c:\\users\\sheik\\appdata\\local\\programs\\python\\python313\\lib\\site-packages (from pandas<3,>=1.4.0->streamlit) (2.9.0.post0)\n",
      "Requirement already satisfied: pytz>=2020.1 in c:\\users\\sheik\\appdata\\local\\programs\\python\\python313\\lib\\site-packages (from pandas<3,>=1.4.0->streamlit) (2025.1)\n",
      "Requirement already satisfied: tzdata>=2022.7 in c:\\users\\sheik\\appdata\\local\\programs\\python\\python313\\lib\\site-packages (from pandas<3,>=1.4.0->streamlit) (2025.1)\n",
      "Requirement already satisfied: charset-normalizer<4,>=2 in c:\\users\\sheik\\appdata\\local\\programs\\python\\python313\\lib\\site-packages (from requests<3,>=2.27->streamlit) (3.4.1)\n",
      "Requirement already satisfied: idna<4,>=2.5 in c:\\users\\sheik\\appdata\\local\\programs\\python\\python313\\lib\\site-packages (from requests<3,>=2.27->streamlit) (3.10)\n",
      "Requirement already satisfied: urllib3<3,>=1.21.1 in c:\\users\\sheik\\appdata\\local\\programs\\python\\python313\\lib\\site-packages (from requests<3,>=2.27->streamlit) (2.3.0)\n",
      "Requirement already satisfied: certifi>=2017.4.17 in c:\\users\\sheik\\appdata\\local\\programs\\python\\python313\\lib\\site-packages (from requests<3,>=2.27->streamlit) (2025.1.31)\n",
      "Requirement already satisfied: smmap<6,>=3.0.1 in c:\\users\\sheik\\appdata\\local\\programs\\python\\python313\\lib\\site-packages (from gitdb<5,>=4.0.1->gitpython!=3.1.19,<4,>=3.0.7->streamlit) (5.0.2)\n",
      "Requirement already satisfied: MarkupSafe>=2.0 in c:\\users\\sheik\\appdata\\local\\programs\\python\\python313\\lib\\site-packages (from jinja2->altair<6,>=4.0->streamlit) (3.0.2)\n",
      "Requirement already satisfied: attrs>=22.2.0 in c:\\users\\sheik\\appdata\\local\\programs\\python\\python313\\lib\\site-packages (from jsonschema>=3.0->altair<6,>=4.0->streamlit) (25.1.0)\n",
      "Requirement already satisfied: jsonschema-specifications>=2023.03.6 in c:\\users\\sheik\\appdata\\local\\programs\\python\\python313\\lib\\site-packages (from jsonschema>=3.0->altair<6,>=4.0->streamlit) (2024.10.1)\n",
      "Requirement already satisfied: referencing>=0.28.4 in c:\\users\\sheik\\appdata\\local\\programs\\python\\python313\\lib\\site-packages (from jsonschema>=3.0->altair<6,>=4.0->streamlit) (0.36.2)\n",
      "Requirement already satisfied: rpds-py>=0.7.1 in c:\\users\\sheik\\appdata\\local\\programs\\python\\python313\\lib\\site-packages (from jsonschema>=3.0->altair<6,>=4.0->streamlit) (0.23.1)\n",
      "Requirement already satisfied: six>=1.5 in c:\\users\\sheik\\appdata\\local\\programs\\python\\python313\\lib\\site-packages (from python-dateutil>=2.8.2->pandas<3,>=1.4.0->streamlit) (1.17.0)\n",
      "Note: you may need to restart the kernel to use updated packages.\n"
     ]
    },
    {
     "name": "stderr",
     "output_type": "stream",
     "text": [
      "\n",
      "[notice] A new release of pip is available: 24.2 -> 25.0.1\n",
      "[notice] To update, run: python.exe -m pip install --upgrade pip\n"
     ]
    }
   ],
   "source": [
    "pip install streamlit"
   ]
  },
  {
   "cell_type": "code",
   "execution_count": 1,
   "id": "231c8036-d2be-4187-8c8e-d46806549a60",
   "metadata": {},
   "outputs": [
    {
     "name": "stderr",
     "output_type": "stream",
     "text": [
      "2025-03-13 23:59:14.287 WARNING streamlit.runtime.scriptrunner_utils.script_run_context: Thread 'MainThread': missing ScriptRunContext! This warning can be ignored when running in bare mode.\n",
      "2025-03-13 23:59:15.022 \n",
      "  \u001b[33m\u001b[1mWarning:\u001b[0m to view this Streamlit app on a browser, run it with the following\n",
      "  command:\n",
      "\n",
      "    streamlit run C:\\Users\\sheik\\AppData\\Roaming\\Python\\Python313\\site-packages\\ipykernel_launcher.py [ARGUMENTS]\n",
      "2025-03-13 23:59:15.023 Thread 'MainThread': missing ScriptRunContext! This warning can be ignored when running in bare mode.\n",
      "2025-03-13 23:59:15.024 Thread 'MainThread': missing ScriptRunContext! This warning can be ignored when running in bare mode.\n",
      "2025-03-13 23:59:15.025 Thread 'MainThread': missing ScriptRunContext! This warning can be ignored when running in bare mode.\n",
      "2025-03-13 23:59:15.027 Thread 'MainThread': missing ScriptRunContext! This warning can be ignored when running in bare mode.\n",
      "2025-03-13 23:59:15.027 Thread 'MainThread': missing ScriptRunContext! This warning can be ignored when running in bare mode.\n",
      "2025-03-13 23:59:15.030 Thread 'MainThread': missing ScriptRunContext! This warning can be ignored when running in bare mode.\n",
      "2025-03-13 23:59:15.030 Thread 'MainThread': missing ScriptRunContext! This warning can be ignored when running in bare mode.\n",
      "2025-03-13 23:59:15.031 Session state does not function when running a script without `streamlit run`\n",
      "2025-03-13 23:59:15.032 Thread 'MainThread': missing ScriptRunContext! This warning can be ignored when running in bare mode.\n",
      "2025-03-13 23:59:15.033 Thread 'MainThread': missing ScriptRunContext! This warning can be ignored when running in bare mode.\n",
      "2025-03-13 23:59:15.035 Thread 'MainThread': missing ScriptRunContext! This warning can be ignored when running in bare mode.\n",
      "2025-03-13 23:59:15.036 Thread 'MainThread': missing ScriptRunContext! This warning can be ignored when running in bare mode.\n",
      "C:\\Users\\sheik\\AppData\\Local\\Temp\\ipykernel_16508\\1703863743.py:18: UserWarning: pandas only supports SQLAlchemy connectable (engine/connection) or database string URI or sqlite3 DBAPI2 connection. Other DBAPI2 objects are not tested. Please consider using SQLAlchemy.\n",
      "  df = pd.read_sql(query, conn)\n",
      "2025-03-13 23:59:16.250 Thread 'MainThread': missing ScriptRunContext! This warning can be ignored when running in bare mode.\n",
      "2025-03-13 23:59:16.252 Thread 'MainThread': missing ScriptRunContext! This warning can be ignored when running in bare mode.\n",
      "2025-03-13 23:59:16.254 Thread 'MainThread': missing ScriptRunContext! This warning can be ignored when running in bare mode.\n",
      "2025-03-13 23:59:16.255 Thread 'MainThread': missing ScriptRunContext! This warning can be ignored when running in bare mode.\n",
      "2025-03-13 23:59:16.256 Thread 'MainThread': missing ScriptRunContext! This warning can be ignored when running in bare mode.\n",
      "2025-03-13 23:59:16.257 Thread 'MainThread': missing ScriptRunContext! This warning can be ignored when running in bare mode.\n"
     ]
    },
    {
     "data": {
      "text/plain": [
       "DeltaGenerator(_root_container=1, _parent=DeltaGenerator())"
      ]
     },
     "execution_count": 1,
     "metadata": {},
     "output_type": "execute_result"
    }
   ],
   "source": [
    "\n",
    "import streamlit as st\n",
    "import mysql.connector \n",
    "import pandas as pd\n",
    "\n",
    "st.title(\"Expense Tracker\")\n",
    "\n",
    "def connect_to_database():\n",
    "    conn = mysql.connector.connect(\n",
    "        host=\"localhost\",\n",
    "    user=\"root\",\n",
    "    password=\"Tigerx@007\",\n",
    "    database=\"expense_tracker\"\n",
    "    )\n",
    "    return conn\n",
    "\n",
    "def run_query(query):\n",
    "    conn = connect_to_database()\n",
    "    df = pd.read_sql(query, conn)\n",
    "    conn.close()\n",
    "    return df\n",
    "\n",
    "st.sidebar.title(\"Navigation\")\n",
    "options = [\n",
    "    \"Total Spending by Category\",\n",
    "    \"Total Spending by Payment Mode\",\n",
    "    \"Total Cashback Received\",\n",
    "    \"Top 5 Most Expensive Categories\",\n",
    "    \"Transportation Spending by Payment Mode\",\n",
    "    \"Transactions with Cashback\",\n",
    "    \"Monthly Spending\",\n",
    "    \"High Spending Months for Specific Categories\",\n",
    "    \"Recurring Expenses\",\n",
    "    \"Monthly Cashback\",\n",
    "    \"Spending Trends Over Time\",\n",
    "    \"Average Travel Costs\",\n",
    "    \"Grocery Spending Patterns\",\n",
    "    \"High and Low Priority Categories\",\n",
    "    \"Category with Highest Percentage of Spending\"\n",
    "]\n",
    "choice = st.sidebar.selectbox(\"Choose an analysis\", options)\n",
    "\n",
    "if choice == \"Total Spending by Category\":\n",
    "    st.header(\"Total Spending by Category\")\n",
    "    query = \"\"\"\n",
    "    SELECT category, SUM(amount_paid) AS total_spent\n",
    "    FROM expenses\n",
    "    GROUP BY category;\n",
    "    \"\"\"\n",
    "    df = run_query(query)\n",
    "    st.bar_chart(df.set_index('category'))\n",
    "\n",
    "elif choice == \"Total Spending by Payment Mode\":\n",
    "    st.header(\"Total Spending by Payment Mode\")\n",
    "    query = \"\"\"\n",
    "    SELECT payment_mode, SUM(amount_paid) AS total_spent\n",
    "    FROM expenses\n",
    "    GROUP BY payment_mode;\n",
    "    \"\"\"\n",
    "    df = run_query(query)\n",
    "    st.bar_chart(df.set_index('payment_mode'))\n",
    "\n",
    "elif choice == \"Total Cashback Received\":\n",
    "    st.header(\"Total Cashback Received\")\n",
    "    query = \"\"\"\n",
    "    SELECT SUM(cashback) AS total_cashback\n",
    "    FROM expenses;\n",
    "    \"\"\"\n",
    "    df = run_query(query)\n",
    "    st.write(f\"Total Cashback Received: ${df.iloc[0, 0]:.2f}\") \n",
    "\n",
    "elif choice == \"Top 5 Most Expensive Categories\":\n",
    "    st.header(\"Top 5 Most Expensive Categories\")\n",
    "    query = \"\"\"\n",
    "    SELECT category, SUM(amount_paid) AS total_spent\n",
    "    FROM expenses\n",
    "    GROUP BY category\n",
    "    ORDER BY total_spent DESC\n",
    "    LIMIT 5;\n",
    "    \"\"\"\n",
    "    df = run_query(query)\n",
    "    st.write(df)  \n",
    "    st.bar_chart(df.set_index('category'))\n",
    "\n",
    "elif choice == \"Transportation Spending by Payment Mode\":\n",
    "    st.header(\"Transportation Spending by Payment Mode\")\n",
    "    query = \"\"\"\n",
    "    SELECT payment_mode, SUM(amount_paid) AS total_spent\n",
    "    FROM expenses\n",
    "    WHERE category = 'Transportation'\n",
    "    GROUP BY payment_mode;\n",
    "    \"\"\"\n",
    "    df = run_query(query)\n",
    "    st.bar_chart(df.set_index('payment_mode'))\n",
    "\n",
    "elif choice == \"Transactions with Cashback\":\n",
    "    st.header(\"Transactions with Cashback\")\n",
    "    query = \"\"\"\n",
    "    SELECT *\n",
    "    FROM expenses\n",
    "    WHERE cashback > 0;\n",
    "    \"\"\"\n",
    "    df = run_query(query)\n",
    "    st.write(df)  \n",
    "\n",
    "elif choice == \"Monthly Spending\":\n",
    "    st.header(\"Monthly Spending\")\n",
    "    query = \"\"\"\n",
    "    SELECT DATE_FORMAT(date, '%Y-%m') AS month, SUM(amount_paid) AS total_spent\n",
    "    FROM expenses\n",
    "    GROUP BY month;\n",
    "    \"\"\"\n",
    "    df = run_query(query)\n",
    "    st.line_chart(df.set_index('month'))\n",
    "\n",
    "elif choice == \"High Spending Months for Specific Categories\":\n",
    "    st.header(\"High Spending Months for Specific Categories\")\n",
    "    query = \"\"\"\n",
    "    SELECT DATE_FORMAT(date, '%Y-%m') AS month, category, SUM(amount_paid) AS total_spent\n",
    "    FROM expenses\n",
    "    WHERE category IN ('Travel', 'Entertainment', 'Gifts')\n",
    "    GROUP BY month, category\n",
    "    ORDER BY total_spent DESC;\n",
    "    \"\"\"\n",
    "    df = run_query(query)\n",
    "    st.write(df)  \n",
    "\n",
    "elif choice == \"Recurring Expenses\":\n",
    "    st.header(\"Recurring Expenses\")\n",
    "    query = \"\"\"\n",
    "    SELECT category, DATE_FORMAT(date, '%Y-%m') AS month, SUM(amount_paid) AS total_spent\n",
    "    FROM expenses\n",
    "    WHERE category IN ('Insurance', 'Subscriptions', 'Bills')\n",
    "    GROUP BY category, month;\n",
    "    \"\"\"\n",
    "    df = run_query(query)\n",
    "    st.write(df)  \n",
    "\n",
    "elif choice == \"Monthly Cashback\":\n",
    "    st.header(\"Monthly Cashback\")\n",
    "    query = \"\"\"\n",
    "    SELECT DATE_FORMAT(date, '%Y-%m') AS month, SUM(cashback) AS total_cashback\n",
    "    FROM expenses\n",
    "    GROUP BY month;\n",
    "    \"\"\"\n",
    "    df = run_query(query)\n",
    "    st.line_chart(df.set_index('month'))\n",
    "\n",
    "elif choice == \"Spending Trends Over Time\":\n",
    "    st.header(\"Spending Trends Over Time\")\n",
    "    query = \"\"\"\n",
    "    SELECT DATE_FORMAT(date, '%Y-%m') AS month, SUM(amount_paid) AS total_spent\n",
    "    FROM expenses\n",
    "    GROUP BY month\n",
    "    ORDER BY month;\n",
    "    \"\"\"\n",
    "    df = run_query(query)\n",
    "    st.line_chart(df.set_index('month'))\n",
    "\n",
    "elif choice == \"Average Travel Costs\":\n",
    "    st.header(\"Average Travel Costs\")\n",
    "    query = \"\"\"\n",
    "    SELECT category, AVG(amount_paid) AS average_cost\n",
    "    FROM expenses\n",
    "    WHERE category IN ('Flights', 'Accommodation', 'Transportation')\n",
    "    GROUP BY category;\n",
    "    \"\"\"\n",
    "    df = run_query(query)\n",
    "    st.write(df)  \n",
    "\n",
    "elif choice == \"Grocery Spending Patterns\":\n",
    "    st.header(\"Grocery Spending Patterns\")\n",
    "    query = \"\"\"\n",
    "    SELECT DATE_FORMAT(date, '%Y-%m') AS month, DAYOFWEEK(date) AS day_of_week, SUM(amount_paid) AS total_spent\n",
    "    FROM expenses\n",
    "    WHERE category = 'Groceries'\n",
    "    GROUP BY month, day_of_week;\n",
    "    \"\"\"\n",
    "    df = run_query(query)\n",
    "    st.write(df)  \n",
    "    \n",
    "elif choice == \"High and Low Priority Categories\":\n",
    "    st.header(\"High and Low Priority Categories\")\n",
    "    query = \"\"\"\n",
    "    SELECT category,\n",
    "           CASE\n",
    "               WHEN category IN ('Bills', 'Groceries', 'Transportation') THEN 'High Priority'\n",
    "               ELSE 'Low Priority'\n",
    "           END AS priority\n",
    "    FROM expenses\n",
    "    GROUP BY category;\n",
    "    \"\"\"\n",
    "    df = run_query(query)\n",
    "    st.write(df)  \n",
    "\n",
    "elif choice == \"Category with Highest Percentage of Spending\":\n",
    "    st.header(\"Category with Highest Percentage of Spending\")\n",
    "    query = \"\"\"\n",
    "    SELECT category,\n",
    "           SUM(amount_paid) * 100.0 / (SELECT SUM(amount_paid) FROM expenses) AS percentage\n",
    "    FROM expenses\n",
    "    GROUP BY category\n",
    "    ORDER BY percentage DESC\n",
    "    LIMIT 1;\n",
    "    \"\"\"\n",
    "    df = run_query(query)\n",
    "    st.write(df)\n",
    "\n",
    "st.sidebar.markdown(\"---\")\n",
    "st.sidebar.markdown(\"Created with using Streamlit\")"
   ]
  },
  {
   "cell_type": "code",
   "execution_count": null,
   "id": "b7a96cd0-29f7-4283-93a9-be02f807f5c6",
   "metadata": {},
   "outputs": [],
   "source": [
    "!streamlit run app.py"
   ]
  },
  {
   "cell_type": "code",
   "execution_count": null,
   "id": "72ef7f67-60ba-4e26-86b8-bdfc7eeed209",
   "metadata": {},
   "outputs": [
    {
     "ename": "SyntaxError",
     "evalue": "invalid syntax (3737097518.py, line 1)",
     "output_type": "error",
     "traceback": [
      "  \u001b[36mCell\u001b[39m\u001b[36m \u001b[39m\u001b[32mIn[31]\u001b[39m\u001b[32m, line 1\u001b[39m\n\u001b[31m    \u001b[39m\u001b[31mstreamlit run app.py\u001b[39m\n              ^\n\u001b[31mSyntaxError\u001b[39m\u001b[31m:\u001b[39m invalid syntax\n"
     ]
    }
   ],
   "source": [
    "streamlit run app.py"
   ]
  },
  {
   "cell_type": "code",
   "execution_count": null,
   "id": "ea0690b6-fcd4-4ebc-8e1a-fdd96e0260ef",
   "metadata": {},
   "outputs": [],
   "source": []
  },
  {
   "cell_type": "code",
   "execution_count": null,
   "id": "889639dc-be28-42db-b188-5959560da3e9",
   "metadata": {},
   "outputs": [],
   "source": []
  },
  {
   "cell_type": "code",
   "execution_count": null,
   "id": "153172dd-126a-4e4e-9e66-66c281c400fc",
   "metadata": {},
   "outputs": [],
   "source": []
  },
  {
   "cell_type": "code",
   "execution_count": null,
   "id": "f4163508-fd31-473a-b451-9329798fddd1",
   "metadata": {},
   "outputs": [],
   "source": []
  },
  {
   "cell_type": "code",
   "execution_count": null,
   "id": "964892dc-ca6e-4acb-81df-4a6b64b02b51",
   "metadata": {},
   "outputs": [],
   "source": []
  },
  {
   "cell_type": "code",
   "execution_count": null,
   "id": "6c5ce220-3b82-4312-827c-9fdba40891cc",
   "metadata": {},
   "outputs": [],
   "source": []
  },
  {
   "cell_type": "code",
   "execution_count": null,
   "id": "7d3cb9b0-6c6d-4e84-b136-71b84d26cba0",
   "metadata": {},
   "outputs": [],
   "source": []
  },
  {
   "cell_type": "code",
   "execution_count": null,
   "id": "6338b525-a88f-4c07-af0b-3b40080e5f8a",
   "metadata": {},
   "outputs": [],
   "source": []
  }
 ],
 "metadata": {
  "kernelspec": {
   "display_name": "Python 3",
   "language": "python",
   "name": "python3"
  },
  "language_info": {
   "codemirror_mode": {
    "name": "ipython",
    "version": 3
   },
   "file_extension": ".py",
   "mimetype": "text/x-python",
   "name": "python",
   "nbconvert_exporter": "python",
   "pygments_lexer": "ipython3",
   "version": "3.13.0"
  }
 },
 "nbformat": 4,
 "nbformat_minor": 5
}
